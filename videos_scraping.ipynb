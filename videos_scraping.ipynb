{
 "cells": [
  {
   "cell_type": "markdown",
   "metadata": {},
   "source": [
    "## Main scraper"
   ]
  },
  {
   "cell_type": "code",
   "execution_count": 12,
   "metadata": {},
   "outputs": [
    {
     "name": "stdout",
     "output_type": "stream",
     "text": [
      "Number of posts: 10\n",
      "Number of posts after filtering: 3\n",
      "HBox(children=(IntProgress(value=1, bar_style='info', max=1), HTML(value='')))\n",
      "\n"
     ]
    }
   ],
   "source": [
    "!python scrape_reddit.py -p D:/A_Documents/virtual_trainer/ -n 10"
   ]
  },
  {
   "cell_type": "markdown",
   "metadata": {},
   "source": [
    "### Testing yt downloads"
   ]
  },
  {
   "cell_type": "code",
   "execution_count": 2,
   "metadata": {},
   "outputs": [],
   "source": [
    "from video_extract import *"
   ]
  },
  {
   "cell_type": "code",
   "execution_count": 3,
   "metadata": {},
   "outputs": [
    {
     "name": "stdout",
     "output_type": "stream",
     "text": [
      "[MoviePy] >>>> Building video D:/A_Documents/virtual_trainer/videos/clipped/deadlift/How To_ Deadlift.mp4\n",
      "[MoviePy] Writing audio in How To_ DeadliftTEMP_MPY_wvf_snd.mp3\n"
     ]
    },
    {
     "name": "stderr",
     "output_type": "stream",
     "text": [
      "100%|████████████████████████████████████████████████████████████████████████████| 353/353 [00:00<00:00, 784.65it/s]\n"
     ]
    },
    {
     "name": "stdout",
     "output_type": "stream",
     "text": [
      "[MoviePy] Done.\n",
      "[MoviePy] Writing video D:/A_Documents/virtual_trainer/videos/clipped/deadlift/How To_ Deadlift.mp4\n"
     ]
    },
    {
     "name": "stderr",
     "output_type": "stream",
     "text": [
      "100%|████████████████████████████████████████████████████████████████████████████▊| 400/401 [00:04<00:00, 91.58it/s]\n"
     ]
    },
    {
     "name": "stdout",
     "output_type": "stream",
     "text": [
      "[MoviePy] Done.\n",
      "[MoviePy] >>>> Video ready: D:/A_Documents/virtual_trainer/videos/clipped/deadlift/How To_ Deadlift.mp4 \n",
      "\n"
     ]
    }
   ],
   "source": [
    "path ='D:/A_Documents/virtual_trainer/'\n",
    "video = VideoScraper(\"https://www.youtube.com/watch?v=RyJbvWAh6ec\",path,'deadlift')\n",
    "video.download_video(False)\n",
    "video.save_clipped(124,140)"
   ]
  },
  {
   "cell_type": "markdown",
   "metadata": {},
   "source": [
    "### Fps argument doesn't seem to work"
   ]
  },
  {
   "cell_type": "code",
   "execution_count": 4,
   "metadata": {},
   "outputs": [
    {
     "name": "stdout",
     "output_type": "stream",
     "text": [
      "[MoviePy] Writing frames D:/A_Documents/virtual_trainer/images/deadlift/how-to-deadlift-mp4/img%03d.png."
     ]
    },
    {
     "name": "stderr",
     "output_type": "stream",
     "text": [
      "401it [03:30,  1.94it/s]                                                                                            \n"
     ]
    },
    {
     "name": "stdout",
     "output_type": "stream",
     "text": [
      "[MoviePy]: Done writing frames D:/A_Documents/virtual_trainer/images/deadlift/how-to-deadlift-mp4/img%03d.png.\n",
      "\n"
     ]
    }
   ],
   "source": [
    "video.gen_img_seq(fps=10)"
   ]
  },
  {
   "cell_type": "code",
   "execution_count": null,
   "metadata": {},
   "outputs": [],
   "source": []
  }
 ],
 "metadata": {
  "kernelspec": {
   "display_name": "Python 3",
   "language": "python",
   "name": "python3"
  },
  "language_info": {
   "codemirror_mode": {
    "name": "ipython",
    "version": 3
   },
   "file_extension": ".py",
   "mimetype": "text/x-python",
   "name": "python",
   "nbconvert_exporter": "python",
   "pygments_lexer": "ipython3",
   "version": "3.6.8"
  }
 },
 "nbformat": 4,
 "nbformat_minor": 2
}
